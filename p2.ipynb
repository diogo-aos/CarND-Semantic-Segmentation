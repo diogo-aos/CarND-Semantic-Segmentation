{
 "cells": [
  {
   "cell_type": "code",
   "execution_count": 1,
   "metadata": {},
   "outputs": [],
   "source": [
    "import os.path\n",
    "import tensorflow as tf\n",
    "import helper\n",
    "import warnings\n",
    "from distutils.version import LooseVersion\n",
    "import project_tests as tests\n",
    "from tqdm import tqdm"
   ]
  },
  {
   "cell_type": "code",
   "execution_count": 2,
   "metadata": {},
   "outputs": [
    {
     "name": "stdout",
     "output_type": "stream",
     "text": [
      "TensorFlow Version: 1.12.0\n",
      "Default GPU Device: /device:GPU:0\n"
     ]
    }
   ],
   "source": [
    "\n",
    "# Check TensorFlow Version                                                                                                                                              \n",
    "assert LooseVersion(tf.__version__) >= LooseVersion('1.0'), 'Please use TensorFlow version 1.0 or newer.  You are using {}'.format(tf.__version__)\n",
    "print('TensorFlow Version: {}'.format(tf.__version__))\n",
    "\n",
    "# Check for a GPU                                                                                                                                                       \n",
    "if not tf.test.gpu_device_name():\n",
    "    warnings.warn('No GPU found. Please use a GPU to train your neural network.')\n",
    "else:\n",
    "    print('Default GPU Device: {}'.format(tf.test.gpu_device_name()))"
   ]
  },
  {
   "cell_type": "code",
   "execution_count": 3,
   "metadata": {},
   "outputs": [],
   "source": [
    "vgg_path = '/home/diogoaos/P2/CarND-Semantic-Segmentation/data/vgg'"
   ]
  },
  {
   "cell_type": "code",
   "execution_count": 4,
   "metadata": {},
   "outputs": [
    {
     "name": "stdout",
     "output_type": "stream",
     "text": [
      "load vgg: Tests Passed\n"
     ]
    }
   ],
   "source": [
    "def load_vgg(sess, vgg_path):\n",
    "    \"\"\"                                                                                                                                                                 \n",
    "    Load Pretrained VGG Model into TensorFlow.                                                                                                                          \n",
    "    :param sess: TensorFlow Session                                                                                                                                     \n",
    "    :param vgg_path: Path to vgg folder, containing \"variables/\" and \"saved_model.pb\"                                                                                   \n",
    "    :return: Tuple of Tensors from VGG model (image_input, keep_prob, layer3_out, layer4_out, layer7_out)                                                               \n",
    "    \"\"\"\n",
    "    # TODO: Implement function                                                                                                                                          \n",
    "    #   Use tf.saved_model.loader.load to load the model and weights                                                                                                    \n",
    "    vgg_tag = 'vgg16'\n",
    "    vgg_input_tensor_name = 'image_input:0'\n",
    "    vgg_keep_prob_tensor_name = 'keep_prob:0'\n",
    "    vgg_layer3_out_tensor_name = 'layer3_out:0'\n",
    "    vgg_layer4_out_tensor_name = 'layer4_out:0'\n",
    "    vgg_layer7_out_tensor_name = 'layer7_out:0'                                                                                                                         \n",
    "    \n",
    "    tf.saved_model.loader.load(sess, [vgg_tag], vgg_path)\n",
    "    g = tf.get_default_graph()\n",
    "    input_layer = g.get_tensor_by_name(vgg_input_tensor_name)\n",
    "    keep_prob = g.get_tensor_by_name(vgg_keep_prob_tensor_name)\n",
    "    l3 = g.get_tensor_by_name(vgg_layer3_out_tensor_name)\n",
    "    l4 = g.get_tensor_by_name(vgg_layer4_out_tensor_name)\n",
    "    l7 = g.get_tensor_by_name(vgg_layer7_out_tensor_name)\n",
    "    \n",
    "    return input_layer, keep_prob, l3, l4, l7\n",
    "print('load vgg: ', end='')\n",
    "tests.test_load_vgg(load_vgg, tf)"
   ]
  },
  {
   "cell_type": "code",
   "execution_count": 5,
   "metadata": {},
   "outputs": [
    {
     "name": "stdout",
     "output_type": "stream",
     "text": [
      "layers: Tests Passed\n"
     ]
    }
   ],
   "source": [
    "def layers(vgg_layer3_out, vgg_layer4_out, vgg_layer7_out, num_classes):\n",
    "    \"\"\"                                                                                                                                                                 \n",
    "    Create the layers for a fully convolutional network.  Build skip-layers using the vgg layers.                                                                       \n",
    "    :param vgg_layer3_out: TF Tensor for VGG Layer 3 output                                                                                                             \n",
    "    :param vgg_layer4_out: TF Tensor for VGG Layer 4 output                                                                                                             \n",
    "    :param vgg_layer7_out: TF Tensor for VGG Layer 7 output                                                                                                             \n",
    "    :param num_classes: Number of classes to classify                                                                                                                   \n",
    "    :return: The Tensor for the last layer of output                                                                                                                    \n",
    "    \"\"\"\n",
    "    # at the end of VGG16, the image has been downsampled to 1/32th of original size\n",
    "    # Part1 (upsample 2x, final=2x):\n",
    "    #   conv 1x1 of layer7\n",
    "    #   upsample 2x previous\n",
    "    #   conv 1x1 layer4\n",
    "    #   add them\n",
    "    # Part2 (upsample 2x, final=4x):\n",
    "    #   upsample 2x Part1\n",
    "    #   conv 1x1 layer3\n",
    "    #   add them\n",
    "    # Part3 (upsample 8x, final=32x):\n",
    "    #   upsample Part2 8x\n",
    "    \n",
    "    # TODO: Implement function\n",
    "    # 1 by 1 convolution from VGG output\n",
    "    # stride is what is upsmapling, padding must be same, size may change\n",
    "    # use regulizer to everylayer according to Aron\n",
    "    # the regulizer penalizes when the weights get too large\n",
    "    l7_conv_1x1 = tf.layers.conv2d(vgg_layer7_out,\n",
    "                                filters=num_classes,\n",
    "                                kernel_size=1,\n",
    "                                strides=(1,1),\n",
    "                                padding='same',\n",
    "                                kernel_regularizer=tf.contrib.layers.l2_regularizer(1e-3))\n",
    "    #fcn32 = tf.layers.conv2d_transpose(l7_conv_1x1,\n",
    "    #                                    filters=num_classes,\n",
    "    #                                    kernel_size=64,\n",
    "    #                                    strides=32,\n",
    "    #                                    padding='same',\n",
    "    #                                    kernel_regularizer=tf.contrib.layers.l2_regularizer(1e-3))\n",
    "    l4_conv_1x1 = tf.layers.conv2d(vgg_layer4_out,\n",
    "                                filters=num_classes,\n",
    "                                kernel_size=1,\n",
    "                                strides=(1,1),\n",
    "                                padding='same',\n",
    "                                kernel_regularizer=tf.contrib.layers.l2_regularizer(1e-3))\n",
    "    l3_conv_1x1 = tf.layers.conv2d(vgg_layer3_out,\n",
    "                                filters=num_classes,\n",
    "                                kernel_size=1,\n",
    "                                strides=(1,1),\n",
    "                                padding='same',\n",
    "                                kernel_regularizer=tf.contrib.layers.l2_regularizer(1e-3))\n",
    "    # second layer is transposed convolution from 1 by 1 convolution\n",
    "    # we want to upsample x2 and then skip layer 4\n",
    "    fcn16 = tf.layers.conv2d_transpose(l7_conv_1x1,\n",
    "                                        filters=num_classes,\n",
    "                                        kernel_size=4,\n",
    "                                        strides=2,\n",
    "                                        padding='same',\n",
    "                                        kernel_regularizer=tf.contrib.layers.l2_regularizer(1e-3))\n",
    "    fcn16 = tf.add(fcn16, l4_conv_1x1)\n",
    "    #fcn16 = tf.layers.conv2d_transpose(fcn16,\n",
    "    #                                    filters=num_classes,\n",
    "    #                                    kernel_size=32,\n",
    "    #                                    strides=16,\n",
    "    #                                    padding='same',\n",
    "    #                                    kernel_regularizer=tf.contrib.layers.l2_regularizer(1e-3))\n",
    "    \n",
    "    # next we want to again upsample x2 (total 4x),\n",
    "    # skip upsampled layer 4 (upsample x2)\n",
    "    # skip layer 3\n",
    "    fcn8 = tf.layers.conv2d_transpose(fcn16,\n",
    "                                        filters=num_classes,\n",
    "                                        kernel_size=4,\n",
    "                                        strides=2,\n",
    "                                        padding='same',\n",
    "                                        kernel_regularizer=tf.contrib.layers.l2_regularizer(1e-3))\n",
    "    fcn8 = tf.add(fcn8, l3_conv_1x1)\n",
    "    fcn8 = tf.layers.conv2d_transpose(fcn8,\n",
    "                                        filters=num_classes,\n",
    "                                        kernel_size=16,\n",
    "                                        strides=8,\n",
    "                                        padding='same',\n",
    "                                        kernel_regularizer=tf.contrib.layers.l2_regularizer(1e-3))\n",
    "    \n",
    "    return fcn8\n",
    "print('layers: ', end='')\n",
    "tests.test_layers(layers)"
   ]
  },
  {
   "cell_type": "code",
   "execution_count": 6,
   "metadata": {},
   "outputs": [
    {
     "name": "stdout",
     "output_type": "stream",
     "text": [
      "WARNING:tensorflow:From <ipython-input-6-1a7a0e3b592b>:13: softmax_cross_entropy_with_logits (from tensorflow.python.ops.nn_ops) is deprecated and will be removed in a future version.\n",
      "Instructions for updating:\n",
      "\n",
      "Future major versions of TensorFlow will allow gradients to flow\n",
      "into the labels input on backprop by default.\n",
      "\n",
      "See `tf.nn.softmax_cross_entropy_with_logits_v2`.\n",
      "\n",
      "Tests Passed\n"
     ]
    }
   ],
   "source": [
    "def optimize(nn_last_layer, correct_label, learning_rate, num_classes):\n",
    "    \"\"\"                                                                                                                                                                 \n",
    "    Build the TensorFLow loss and optimizer operations.                                                                                                                 \n",
    "    :param nn_last_layer: TF Tensor of the last layer in the neural network                                                                                             \n",
    "    :param correct_label: TF Placeholder for the correct label image                                                                                                    \n",
    "    :param learning_rate: TF Placeholder for the learning rate                                                                                                          \n",
    "    :param num_classes: Number of classes to classify                                                                                                                   \n",
    "    :return: Tuple of (logits, train_op, cross_entropy_loss)                                                                                                            \n",
    "    \"\"\"\n",
    "    # logits : 2D tensor; rows=pixels; columns=pixel classes\n",
    "    logits = tf.reshape(nn_last_layer, (-1, num_classes))\n",
    "    correct_label = tf.reshape(correct_label, (-1,num_classes))\n",
    "    cross_entropy = tf.nn.softmax_cross_entropy_with_logits(logits=logits, labels=correct_label)\n",
    "    loss_operation = tf.reduce_mean(cross_entropy)\n",
    "    optimizer = tf.train.AdamOptimizer(learning_rate = learning_rate)\n",
    "    train_op = optimizer.minimize(loss_operation)\n",
    "    return logits, train_op, loss_operation\n",
    "tests.test_optimize(optimize)"
   ]
  },
  {
   "cell_type": "code",
   "execution_count": 7,
   "metadata": {},
   "outputs": [],
   "source": [
    "EPOCHS = 30\n",
    "LEARNING_RATE = 0.001\n",
    "BATCH_SIZE = 1\n",
    "DROPOUT_RATE = 0.5"
   ]
  },
  {
   "cell_type": "code",
   "execution_count": 8,
   "metadata": {
    "scrolled": true
   },
   "outputs": [
    {
     "name": "stderr",
     "output_type": "stream",
     "text": [
      "  3%|▎         | 1/30 [00:00<00:00, 205.36it/s]\n"
     ]
    },
    {
     "name": "stdout",
     "output_type": "stream",
     "text": [
      "INFO:tensorflow:Restoring parameters from ./data/vgg/variables/variables\n",
      "WARNING:tensorflow:From /home/diogoaos/p2/lib/python3.5/site-packages/tensorflow/python/util/tf_should_use.py:189: initialize_all_variables (from tensorflow.python.ops.variables) is deprecated and will be removed after 2017-03-02.\n",
      "Instructions for updating:\n",
      "Use `tf.global_variables_initializer` instead.\n"
     ]
    }
   ],
   "source": [
    "def train_nn(sess, epochs, batch_size, get_batches_fn, train_op, cross_entropy_loss, input_image,\n",
    "             correct_label, keep_prob, learning_rate):\n",
    "    \"\"\"                                                                                                                                                                 \n",
    "    Train neural network and print out the loss during training.                                                                                                        \n",
    "    :param sess: TF Session                                                                                                                                             \n",
    "    :param epochs: Number of epochs                                                                                                                                     \n",
    "    :param batch_size: Batch size                                                                                                                                       \n",
    "    :param get_batches_fn: Function to get batches of training data.  Call using get_batches_fn(batch_size)                                                             \n",
    "    :param train_op: TF Operation to train the neural network                                                                                                           \n",
    "    :param cross_entropy_loss: TF Tensor for the amount of loss                                                                                                         \n",
    "    :param input_image: TF Placeholder for input images                                                                                                                 \n",
    "    :param correct_label: TF Placeholder for label images                                                                                                               \n",
    "    :param keep_prob: TF Placeholder for dropout keep probability                                                                                                       \n",
    "    :param learning_rate: TF Placeholder for learning rate                                                                                                              \n",
    "    \"\"\"\n",
    "    pbar = tqdm(total=EPOCHS)\n",
    "    all_size = []\n",
    "    all_loss = []\n",
    "    for epoch in range(epochs):\n",
    "        epoch_batch_size = []\n",
    "        epoch_loss = []\n",
    "        for image, label in get_batches_fn(batch_size):\n",
    "            # create feed dict: input image, correct label, keep prob, learning rate\n",
    "            # loss = session.run\n",
    "            feed_dict = {input_image: image,\n",
    "                         correct_label: label,\n",
    "                         keep_prob: DROPOUT_RATE,\n",
    "                         learning_rate: LEARNING_RATE}\n",
    "            _, loss = sess.run([train_op, cross_entropy_loss], feed_dict=feed_dict)\n",
    "            epoch_batch_size.append(len(image))\n",
    "            epoch_loss.append(loss)\n",
    "        all_loss.append(epoch_batch_size)\n",
    "        all_loss.append(epoch_loss)\n",
    "        print('epoch {} | {} images | loss {}'.format(epoch, sum(epoch_batch_size), sum(epoch_loss) / sum(epoch_batch_size)))\n",
    "        pbar.update(1)\n",
    "    pass\n",
    "tests.test_train_nn(train_nn)"
   ]
  },
  {
   "cell_type": "code",
   "execution_count": 9,
   "metadata": {},
   "outputs": [],
   "source": [
    "def run():\n",
    "    num_classes = 2\n",
    "    image_shape = (160, 576)  # KITTI dataset uses 160x576 images                                                                                                       \n",
    "    data_dir = './data'\n",
    "    runs_dir = './runs'\n",
    "    tests.test_for_kitti_dataset(data_dir)\n",
    "\n",
    "    # Download pretrained vgg model                                                                                                                                     \n",
    "    helper.maybe_download_pretrained_vgg(data_dir)\n",
    "\n",
    "    # OPTIONAL: Train and Inference on the cityscapes dataset instead of the Kitti dataset.                                                                             \n",
    "    # You'll need a GPU with at least 10 teraFLOPS to train on.                                                                                                         \n",
    "    #  https://www.cityscapes-dataset.com/\n",
    "    \n",
    "    with tf.Session() as sess:\n",
    "        label_layer = tf.placeholder(tf.int32, (None, None, None, num_classes), name='gt_label')\n",
    "        learning_rate = tf.placeholder(tf.float32, name='learning_rate')\n",
    "        \n",
    "        # Path to vgg model                                                                                                                                             \n",
    "        vgg_path = os.path.join(data_dir, 'vgg')\n",
    "        # Create function to get batches                                                                                                                                \n",
    "        get_batches_fn = helper.gen_batch_function(os.path.join(data_dir, 'data_road/training'), image_shape)\n",
    "\n",
    "        # OPTIONAL: Augment Images for better results                                                                                                                   \n",
    "        #  https://datascience.stackexchange.com/questions/5224/how-to-prepare-augment-images-for-neural-network                                                        \n",
    "\n",
    "        # TODO: Build NN using load_vgg, layers, and optimize function\n",
    "        input_image, keep_prob, layer3, layer4, layer7 = load_vgg(sess, vgg_path)\n",
    "        layer_output = layers(layer3, layer4, layer7, num_classes)\n",
    "\n",
    "        # TODO: Train NN using the train_nn function\n",
    "        \n",
    "        logits, train_op, cross_entropy_loss = optimize(layer_output, label_layer, learning_rate, num_classes )\n",
    "        \n",
    "        init_op = tf.initialize_all_variables()\n",
    "        sess.run(init_op)\n",
    "        \n",
    "        train_nn(sess, EPOCHS, BATCH_SIZE, get_batches_fn, train_op, cross_entropy_loss,\n",
    "                 input_image, label_layer, keep_prob, learning_rate)\n",
    "\n",
    "        # TODO: Save inference data using helper.save_inference_samples                                                                                                 \n",
    "        helper.save_inference_samples(runs_dir, data_dir, sess, image_shape, logits, keep_prob, input_image)                                                         \n",
    "\n",
    "        # OPTIONAL: Apply the trained model to a video"
   ]
  },
  {
   "cell_type": "code",
   "execution_count": 10,
   "metadata": {},
   "outputs": [
    {
     "name": "stderr",
     "output_type": "stream",
     "text": [
      "100%|██████████| 30/30 [29:27<00:00, 58.89s/it]"
     ]
    }
   ],
   "source": [
    "run()"
   ]
  }
 ],
 "metadata": {
  "kernelspec": {
   "display_name": "Python 3",
   "language": "python",
   "name": "python3"
  },
  "language_info": {
   "codemirror_mode": {
    "name": "ipython",
    "version": 3
   },
   "file_extension": ".py",
   "mimetype": "text/x-python",
   "name": "python",
   "nbconvert_exporter": "python",
   "pygments_lexer": "ipython3",
   "version": "3.5.2"
  }
 },
 "nbformat": 4,
 "nbformat_minor": 2
}
