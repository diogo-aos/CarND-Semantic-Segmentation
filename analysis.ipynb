{
 "cells": [
  {
   "cell_type": "code",
   "execution_count": null,
   "metadata": {},
   "outputs": [],
   "source": [
    "import matplotlib.pyplot as plt\n",
    "%matplotlib inline"
   ]
  },
  {
   "cell_type": "code",
   "execution_count": null,
   "metadata": {},
   "outputs": [],
   "source": [
    "import os"
   ]
  },
  {
   "cell_type": "code",
   "execution_count": null,
   "metadata": {},
   "outputs": [],
   "source": [
    "import cv2"
   ]
  },
  {
   "cell_type": "code",
   "execution_count": null,
   "metadata": {},
   "outputs": [],
   "source": [
    "lsdir = os.listdir()\n",
    "txts = [fn for fn in lsdir if fn.endswith('.txt')]\n",
    "txts = sorted(txts)\n",
    "txts"
   ]
  },
  {
   "cell_type": "code",
   "execution_count": null,
   "metadata": {},
   "outputs": [],
   "source": [
    "with open(txts[-1], 'r') as f:\n",
    "    header = f.readline()\n",
    "    data = f.read()"
   ]
  },
  {
   "cell_type": "code",
   "execution_count": null,
   "metadata": {},
   "outputs": [],
   "source": [
    "data = data.split('epoch=')[1:]\n",
    "epoch_loss = []\n",
    "for d in data:\n",
    "    bs_idx_start = d.find('batch_sizes=[') + len('batch_sizes=[')\n",
    "    bs_idx_end = d.find(']\\nloss')\n",
    "    l_idx_start = d.find('loss=[') + len('loss=[')\n",
    "    l_idx_end = d.find(']', l_idx_start)\n",
    "    bs = d[bs_idx_start: bs_idx_end]\n",
    "    bs = list(map(int, bs.split(',')))\n",
    "    l = d[l_idx_start: l_idx_end]\n",
    "    l = list(map(float, l.split(',')))\n",
    "    assert len(bs) == len(l)\n",
    "    total_images = sum(bs)\n",
    "    total_loss = sum(l)\n",
    "    average_loss = total_loss / total_images\n",
    "    epoch_loss.append(average_loss)"
   ]
  },
  {
   "cell_type": "code",
   "execution_count": null,
   "metadata": {},
   "outputs": [],
   "source": [
    "plt.plot(epoch_loss, label='training')\n",
    "plt.xlabel('epoch')\n",
    "plt.ylabel('mean cross entropy loss')\n",
    "plt.title(header)\n",
    "plt.legend()\n",
    "plt.savefig('test.png')"
   ]
  },
  {
   "cell_type": "code",
   "execution_count": null,
   "metadata": {},
   "outputs": [],
   "source": [
    "import numpy as np\n",
    "import cv2\n",
    "from cv2 import VideoWriter, VideoWriter_fourcc, imread\n",
    "from matplotlib.pyplot import imshow"
   ]
  },
  {
   "cell_type": "code",
   "execution_count": null,
   "metadata": {},
   "outputs": [],
   "source": [
    "FPS = 4"
   ]
  },
  {
   "cell_type": "code",
   "execution_count": null,
   "metadata": {},
   "outputs": [],
   "source": [
    "def process(im, txt):\n",
    "    height, width, channel = im.shape\n",
    "    text_height = 40\n",
    "    img = np.zeros((height + text_height,width,channel), np.uint8)\n",
    "    img[0:height] = im[:]\n",
    "    font = cv2.FONT_HERSHEY_SIMPLEX\n",
    "    cv2.putText(img, txt,(int(width/2) - int(width/5),height + text_height - 10), font, 1,(255,0,0),2,cv2.LINE_AA)\n",
    "    return img\n",
    "    "
   ]
  },
  {
   "cell_type": "code",
   "execution_count": null,
   "metadata": {},
   "outputs": [],
   "source": [
    "im = imread(os.path.join(test_out_dir, images_fn[0]))\n",
    "im = process(im, 'random')\n",
    "height, width, channel = im.shape\n",
    "\n",
    "fourcc = VideoWriter_fourcc(*'MP42')\n",
    "video = VideoWriter('./' + test_out_dir.split('/')[-1].split('.')[0] + '.avi', fourcc, float(FPS), (width, height))\n",
    "\n",
    "for im_fn in images_fn:\n",
    "    frame = imread(os.path.join(test_out_dir, im_fn))\n",
    "    video.write(process(frame, im_fn))\n",
    "video.release()"
   ]
  },
  {
   "cell_type": "code",
   "execution_count": null,
   "metadata": {},
   "outputs": [],
   "source": [
    "video_in_fn = 'data/foz.mp4'\n",
    "cap = cv2.VideoCapture(video_in_fn)\n",
    "\n",
    "# Check if camera opened successfully\n",
    "if (cap.isOpened()== False): \n",
    "    raise Exception(\"Error opening video stream or file\")\n",
    "\n",
    "# Read until video is completed\n",
    "while(cap.isOpened()):\n",
    "    # Capture frame-by-frame\n",
    "    ret, frame = cap.read()\n",
    "    if frame is not None:\n",
    "        break\n",
    "\n",
    "# When everything done, release the video capture object\n",
    "cap.release()"
   ]
  },
  {
   "cell_type": "code",
   "execution_count": null,
   "metadata": {},
   "outputs": [],
   "source": [
    "h, w, c = frame.shape"
   ]
  },
  {
   "cell_type": "code",
   "execution_count": null,
   "metadata": {},
   "outputs": [],
   "source": [
    "w - final_w"
   ]
  },
  {
   "cell_type": "code",
   "execution_count": null,
   "metadata": {},
   "outputs": [],
   "source": [
    "desired_ratio = 3.31\n",
    "final_h = w / desired_ratio\n",
    "final_w = h * desired_ratio"
   ]
  },
  {
   "cell_type": "code",
   "execution_count": null,
   "metadata": {},
   "outputs": [],
   "source": [
    "h-final_h"
   ]
  },
  {
   "cell_type": "code",
   "execution_count": null,
   "metadata": {},
   "outputs": [],
   "source": [
    "plt.imshow(frame[int(h-final_h):,:,:])"
   ]
  },
  {
   "cell_type": "code",
   "execution_count": null,
   "metadata": {},
   "outputs": [],
   "source": [
    "pwd"
   ]
  },
  {
   "cell_type": "code",
   "execution_count": null,
   "metadata": {},
   "outputs": [],
   "source": [
    "2"
   ]
  }
 ],
 "metadata": {
  "kernelspec": {
   "display_name": "Python 3",
   "language": "python",
   "name": "python3"
  },
  "language_info": {
   "codemirror_mode": {
    "name": "ipython",
    "version": 3
   },
   "file_extension": ".py",
   "mimetype": "text/x-python",
   "name": "python",
   "nbconvert_exporter": "python",
   "pygments_lexer": "ipython3",
   "version": "3.5.2"
  }
 },
 "nbformat": 4,
 "nbformat_minor": 2
}
