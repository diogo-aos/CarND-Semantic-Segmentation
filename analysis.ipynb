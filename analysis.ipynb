{
 "cells": [
  {
   "cell_type": "code",
   "execution_count": null,
   "metadata": {},
   "outputs": [],
   "source": [
    "import matplotlib.pyplot as plt\n",
    "%matplotlib inline"
   ]
  },
  {
   "cell_type": "code",
   "execution_count": null,
   "metadata": {},
   "outputs": [],
   "source": [
    "import os"
   ]
  },
  {
   "cell_type": "code",
   "execution_count": null,
   "metadata": {},
   "outputs": [],
   "source": [
    "import cv2"
   ]
  },
  {
   "cell_type": "code",
   "execution_count": null,
   "metadata": {},
   "outputs": [],
   "source": [
    "lsdir = os.listdir()\n",
    "txts = [fn for fn in lsdir if fn.endswith('.txt')]\n",
    "txts = sorted(txts)\n",
    "txts"
   ]
  },
  {
   "cell_type": "code",
   "execution_count": null,
   "metadata": {},
   "outputs": [],
   "source": [
    "with open(txts[-1], 'r') as f:\n",
    "    header = f.readline()\n",
    "    data = f.read()"
   ]
  },
  {
   "cell_type": "code",
   "execution_count": null,
   "metadata": {},
   "outputs": [],
   "source": [
    "data = data.split('epoch=')[1:]\n",
    "epoch_loss = []\n",
    "for d in data:\n",
    "    bs_idx_start = d.find('batch_sizes=[') + len('batch_sizes=[')\n",
    "    bs_idx_end = d.find(']\\nloss')\n",
    "    l_idx_start = d.find('loss=[') + len('loss=[')\n",
    "    l_idx_end = d.find(']', l_idx_start)\n",
    "    bs = d[bs_idx_start: bs_idx_end]\n",
    "    bs = list(map(int, bs.split(',')))\n",
    "    l = d[l_idx_start: l_idx_end]\n",
    "    l = list(map(float, l.split(',')))\n",
    "    assert len(bs) == len(l)\n",
    "    total_images = sum(bs)\n",
    "    total_loss = sum(l)\n",
    "    average_loss = total_loss / total_images\n",
    "    epoch_loss.append(average_loss)"
   ]
  },
  {
   "cell_type": "code",
   "execution_count": null,
   "metadata": {},
   "outputs": [],
   "source": [
    "plt.plot(epoch_loss, label='training')\n",
    "plt.xlabel('epoch')\n",
    "plt.ylabel('mean cross entropy loss')\n",
    "plt.title(header)\n",
    "plt.legend()\n",
    "plt.savefig('test.png')"
   ]
  },
  {
   "cell_type": "code",
   "execution_count": null,
   "metadata": {},
   "outputs": [],
   "source": [
    "import numpy as np\n",
    "import cv2\n",
    "from cv2 import VideoWriter, VideoWriter_fourcc, imread\n",
    "from matplotlib.pyplot import imshow"
   ]
  },
  {
   "cell_type": "code",
   "execution_count": null,
   "metadata": {},
   "outputs": [],
   "source": [
    "FPS = 4"
   ]
  },
  {
   "cell_type": "code",
   "execution_count": null,
   "metadata": {},
   "outputs": [],
   "source": []
  },
  {
   "cell_type": "code",
   "execution_count": null,
   "metadata": {},
   "outputs": [],
   "source": [
    "def process(im, txt):\n",
    "    height, width, channel = im.shape\n",
    "    text_height = 40\n",
    "    img = np.zeros((height + text_height,width,channel), np.uint8)\n",
    "    img[0:height] = im[:]\n",
    "    font = cv2.FONT_HERSHEY_SIMPLEX\n",
    "    cv2.putText(img, txt,(int(width/2) - int(width/5),height + text_height - 10), font, 1,(255,0,0),2,cv2.LINE_AA)\n",
    "    return img\n",
    "    "
   ]
  },
  {
   "cell_type": "code",
   "execution_count": null,
   "metadata": {},
   "outputs": [],
   "source": [
    "im = imread(os.path.join(test_out_dir, images_fn[0]))\n",
    "im = process(im, 'random')\n",
    "height, width, channel = im.shape\n",
    "\n",
    "fourcc = VideoWriter_fourcc(*'MP42')\n",
    "video = VideoWriter('./' + test_out_dir.split('/')[-1].split('.')[0] + '.avi', fourcc, float(FPS), (width, height))\n",
    "\n",
    "for im_fn in images_fn:\n",
    "    frame = imread(os.path.join(test_out_dir, im_fn))\n",
    "    video.write(process(frame, im_fn))\n",
    "video.release()"
   ]
  },
  {
   "cell_type": "code",
   "execution_count": null,
   "metadata": {},
   "outputs": [],
   "source": [
    "video_in_fn = 'data/foz.mp4'\n",
    "cap = cv2.VideoCapture(video_in_fn)\n",
    "\n",
    "# Check if camera opened successfully\n",
    "if (cap.isOpened()== False): \n",
    "    raise Exception(\"Error opening video stream or file\")\n",
    "\n",
    "# Read until video is completed\n",
    "while(cap.isOpened()):\n",
    "    # Capture frame-by-frame\n",
    "    ret, frame = cap.read()\n",
    "    if frame is not None:\n",
    "        break\n",
    "\n",
    "# When everything done, release the video capture object\n",
    "cap.release()"
   ]
  },
  {
   "cell_type": "markdown",
   "metadata": {},
   "source": [
    "# grid video"
   ]
  },
  {
   "cell_type": "code",
   "execution_count": 28,
   "metadata": {},
   "outputs": [],
   "source": [
    "import cv2\n",
    "import numpy as np\n",
    "import matplotlib.pyplot as plt\n",
    "%matplotlib inline"
   ]
  },
  {
   "cell_type": "code",
   "execution_count": 93,
   "metadata": {},
   "outputs": [],
   "source": [
    "def writeText(im, txt):\n",
    "    height, width, channel = im.shape\n",
    "    text_height = 40\n",
    "    img = im\n",
    "    font = cv2.FONT_HERSHEY_SIMPLEX\n",
    "    cv2.putText(img, txt, (int(width/2) - int(width/5),text_height - 10), font, 1,(255,0,0),2,cv2.LINE_AA)\n",
    "    return img"
   ]
  },
  {
   "cell_type": "code",
   "execution_count": 15,
   "metadata": {},
   "outputs": [],
   "source": [
    "def info_video(video_in_fn):\n",
    "    meta = {}\n",
    "    cap = cv2.VideoCapture(video_in_fn)\n",
    "    meta['n_frames'] = int(cap.get(cv2.CAP_PROP_FRAME_COUNT))\n",
    "    meta['fps'] = int(cap.get(cv2.CAP_PROP_FPS))\n",
    "    meta['h'] = int(cap.get(cv2.CAP_PROP_FRAME_HEIGHT))\n",
    "    meta['w'] = int(cap.get(cv2.CAP_PROP_FRAME_WIDTH))\n",
    "    meta['c'] = int(cap.get(cv2.CAP_PROP_FOURCC))\n",
    "    cap.release()\n",
    "    return meta\n",
    "\n",
    "\n",
    "def load_video(video_in_fn):\n",
    "    cap = cv2.VideoCapture(video_in_fn)\n",
    "    # Check if camera opened successfully\n",
    "    if (not cap.isOpened()):\n",
    "        raise Exception(\"Error opening video stream or file\")\n",
    "\n",
    "    # Read until video is completed\n",
    "    while(cap.isOpened()):\n",
    "        # Capture frame-by-frame\n",
    "        ret, frame = cap.read()\n",
    "        if frame is None:\n",
    "            break\n",
    "        yield frame\n",
    "\n",
    "    # When everything done, release the video capture object\n",
    "    cap.release()"
   ]
  },
  {
   "cell_type": "code",
   "execution_count": 59,
   "metadata": {},
   "outputs": [],
   "source": [
    "vids = ['results/05_04_2019__10_25/processed_model50_foz_crop.mp4',\n",
    "       'results/03_04_2019__13_54/processed_model50_foz_crop.mp4',\n",
    "       'results/04_04_2019__15_14/processed_model50_foz_crop.mp4',\n",
    "       'results/05_04_2019__10_25/processed_model50_neuronios_crop.mp4',\n",
    "       'results/03_04_2019__13_54/processed_model50_neuronios_crop.mp4',\n",
    "       'results/04_04_2019__15_14/processed_model50_neuronios_crop.mp4']"
   ]
  },
  {
   "cell_type": "code",
   "execution_count": 63,
   "metadata": {},
   "outputs": [],
   "source": [
    "h,w,c = (160, 576, 3)"
   ]
  },
  {
   "cell_type": "code",
   "execution_count": 97,
   "metadata": {},
   "outputs": [],
   "source": [
    "vids = ['results/05_04_2019__10_25/inference.avi',\n",
    "        'results/03_04_2019__13_54//inference.avi',\n",
    "        'results/04_04_2019__15_14//inference.avi']"
   ]
  },
  {
   "cell_type": "code",
   "execution_count": 99,
   "metadata": {},
   "outputs": [
    {
     "data": {
      "text/plain": [
       "{'c': 842289229, 'fps': 4, 'h': 200, 'n_frames': 290, 'w': 576}"
      ]
     },
     "execution_count": 99,
     "metadata": {},
     "output_type": "execute_result"
    }
   ],
   "source": [
    "meta"
   ]
  },
  {
   "cell_type": "code",
   "execution_count": 101,
   "metadata": {},
   "outputs": [],
   "source": [
    "meta = info_video(vids[0])\n",
    "h,w = meta['h'], meta['w']\n",
    "loaded_vids = [load_video(video_fn) for video_fn in vids ]\n",
    "f=np.zeros((meta['h']*3,meta['w'],c), dtype='uint8')\n",
    "h2, w2, c2 = f.shape\n",
    "fourcc = cv2.VideoWriter_fourcc(*'MP42')\n",
    "video = cv2.VideoWriter('grid_inference.avi', fourcc, float(meta['fps']), (w2, h2))\n",
    "for frames in zip(*loaded_vids):\n",
    "    row = 0\n",
    "    f[row*h:(row+1)*h,0:w] = writeText(frames[0], 'inference-modelA')\n",
    "    row = 1\n",
    "    f[row*h:(row+1)*h,0:w] = writeText(frames[1], 'inference-modelC')\n",
    "    row = 2\n",
    "    f[row*h:(row+1)*h,0:w] = writeText(frames[2], 'inference-modelB')\n",
    "    video.write(f)\n",
    "video.release()"
   ]
  },
  {
   "cell_type": "code",
   "execution_count": 96,
   "metadata": {},
   "outputs": [],
   "source": [
    "meta = info_video(vids[0])\n",
    "loaded_vids = [load_video(video_fn) for video_fn in vids ]\n",
    "f=np.zeros((h*3,w*2,c), dtype='uint8')\n",
    "h2, w2, c2 = f.shape\n",
    "fourcc = cv2.VideoWriter_fourcc(*'MP42')\n",
    "video = cv2.VideoWriter('grid.avi', fourcc, float(meta['fps']), (w2, h2))\n",
    "for frames in zip(*loaded_vids):\n",
    "    #row 0\n",
    "    row = 0\n",
    "    f[row*h:(row+1)*h,0:w] = writeText(frames[0], 'foz-modelA')\n",
    "    f[row*h:(row+1)*h,w:2*w] = writeText(frames[1], 'foz-modelB')\n",
    "    row = 1\n",
    "    f[row*h:(row+1)*h,0:w] = writeText(frames[2], 'foz-modelC')\n",
    "    f[row*h:(row+1)*h,w:2*w] = writeText(frames[3], 'neuronios-modelA')\n",
    "    row = 2\n",
    "    f[row*h:(row+1)*h,0:w] = writeText(frames[4], 'neuronios-modelB')\n",
    "    f[row*h:(row+1)*h,w:2*w] = writeText(frames[5], 'neuronios-modelC')\n",
    "    video.write(f)\n",
    "video.release()"
   ]
  },
  {
   "cell_type": "code",
   "execution_count": 90,
   "metadata": {},
   "outputs": [],
   "source": [
    "for frames in zip(*loaded_vids):\n",
    "    pass\n",
    "video.release()"
   ]
  }
 ],
 "metadata": {
  "kernelspec": {
   "display_name": "Python 3",
   "language": "python",
   "name": "python3"
  },
  "language_info": {
   "codemirror_mode": {
    "name": "ipython",
    "version": 3
   },
   "file_extension": ".py",
   "mimetype": "text/x-python",
   "name": "python",
   "nbconvert_exporter": "python",
   "pygments_lexer": "ipython3",
   "version": "3.5.2"
  }
 },
 "nbformat": 4,
 "nbformat_minor": 2
}
